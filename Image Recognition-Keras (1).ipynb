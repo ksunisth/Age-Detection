{
 "cells": [
  {
   "cell_type": "code",
   "execution_count": 1,
   "id": "2b31a8a3",
   "metadata": {},
   "outputs": [],
   "source": [
    "import numpy as np\n",
    "import pandas as pd\n",
    "import matplotlib.pyplot as plt\n",
    "import seaborn as sns\n",
    "import keras as k\n",
    "from keras import Sequential\n",
    "from keras.layers import Conv2D, Dense, Dropout, MaxPool2D, BatchNormalization, Flatten"
   ]
  },
  {
   "cell_type": "code",
   "execution_count": 2,
   "id": "05a3faf7",
   "metadata": {},
   "outputs": [],
   "source": [
    "df=pd.read_csv(\"C:/Users/Zephyrus/Datasets/Age, gender, ethnicity/age_gender.csv\")"
   ]
  },
  {
   "cell_type": "code",
   "execution_count": 3,
   "id": "5ad22132",
   "metadata": {},
   "outputs": [],
   "source": [
    "age=np.array(df['age'])"
   ]
  },
  {
   "cell_type": "code",
   "execution_count": 4,
   "id": "402ffea9",
   "metadata": {},
   "outputs": [],
   "source": [
    "for i in range(len(age)):\n",
    "    if(age[i]<=17):\n",
    "        age[i]=0\n",
    "    else:\n",
    "        age[i]=1        "
   ]
  },
  {
   "cell_type": "code",
   "execution_count": 5,
   "id": "bb52d4e9",
   "metadata": {},
   "outputs": [],
   "source": [
    "df['age']=age"
   ]
  },
  {
   "cell_type": "code",
   "execution_count": 6,
   "id": "24a15820",
   "metadata": {},
   "outputs": [
    {
     "data": {
      "text/html": [
       "<div>\n",
       "<style scoped>\n",
       "    .dataframe tbody tr th:only-of-type {\n",
       "        vertical-align: middle;\n",
       "    }\n",
       "\n",
       "    .dataframe tbody tr th {\n",
       "        vertical-align: top;\n",
       "    }\n",
       "\n",
       "    .dataframe thead th {\n",
       "        text-align: right;\n",
       "    }\n",
       "</style>\n",
       "<table border=\"1\" class=\"dataframe\">\n",
       "  <thead>\n",
       "    <tr style=\"text-align: right;\">\n",
       "      <th></th>\n",
       "      <th>age</th>\n",
       "      <th>ethnicity</th>\n",
       "      <th>gender</th>\n",
       "      <th>img_name</th>\n",
       "      <th>pixels</th>\n",
       "    </tr>\n",
       "  </thead>\n",
       "  <tbody>\n",
       "    <tr>\n",
       "      <th>0</th>\n",
       "      <td>0</td>\n",
       "      <td>2</td>\n",
       "      <td>0</td>\n",
       "      <td>20161219203650636.jpg.chip.jpg</td>\n",
       "      <td>129 128 128 126 127 130 133 135 139 142 145 14...</td>\n",
       "    </tr>\n",
       "    <tr>\n",
       "      <th>1</th>\n",
       "      <td>0</td>\n",
       "      <td>2</td>\n",
       "      <td>0</td>\n",
       "      <td>20161219222752047.jpg.chip.jpg</td>\n",
       "      <td>164 74 111 168 169 171 175 182 184 188 193 199...</td>\n",
       "    </tr>\n",
       "    <tr>\n",
       "      <th>2</th>\n",
       "      <td>0</td>\n",
       "      <td>2</td>\n",
       "      <td>0</td>\n",
       "      <td>20161219222832191.jpg.chip.jpg</td>\n",
       "      <td>67 70 71 70 69 67 70 79 90 103 116 132 145 155...</td>\n",
       "    </tr>\n",
       "    <tr>\n",
       "      <th>3</th>\n",
       "      <td>0</td>\n",
       "      <td>2</td>\n",
       "      <td>0</td>\n",
       "      <td>20161220144911423.jpg.chip.jpg</td>\n",
       "      <td>193 197 198 200 199 200 202 203 204 205 208 21...</td>\n",
       "    </tr>\n",
       "    <tr>\n",
       "      <th>4</th>\n",
       "      <td>0</td>\n",
       "      <td>2</td>\n",
       "      <td>0</td>\n",
       "      <td>20161220144914327.jpg.chip.jpg</td>\n",
       "      <td>202 205 209 210 209 209 210 211 212 214 218 21...</td>\n",
       "    </tr>\n",
       "  </tbody>\n",
       "</table>\n",
       "</div>"
      ],
      "text/plain": [
       "   age  ethnicity  gender                        img_name  \\\n",
       "0    0          2       0  20161219203650636.jpg.chip.jpg   \n",
       "1    0          2       0  20161219222752047.jpg.chip.jpg   \n",
       "2    0          2       0  20161219222832191.jpg.chip.jpg   \n",
       "3    0          2       0  20161220144911423.jpg.chip.jpg   \n",
       "4    0          2       0  20161220144914327.jpg.chip.jpg   \n",
       "\n",
       "                                              pixels  \n",
       "0  129 128 128 126 127 130 133 135 139 142 145 14...  \n",
       "1  164 74 111 168 169 171 175 182 184 188 193 199...  \n",
       "2  67 70 71 70 69 67 70 79 90 103 116 132 145 155...  \n",
       "3  193 197 198 200 199 200 202 203 204 205 208 21...  \n",
       "4  202 205 209 210 209 209 210 211 212 214 218 21...  "
      ]
     },
     "execution_count": 6,
     "metadata": {},
     "output_type": "execute_result"
    }
   ],
   "source": [
    "df.head()"
   ]
  },
  {
   "cell_type": "code",
   "execution_count": 7,
   "id": "ea7a0c97",
   "metadata": {},
   "outputs": [],
   "source": [
    "final_df=df.drop(['ethnicity', 'gender', 'img_name'], axis=1)"
   ]
  },
  {
   "cell_type": "code",
   "execution_count": 8,
   "id": "5cdad251",
   "metadata": {},
   "outputs": [
    {
     "data": {
      "text/plain": [
       "'\"\"\\nenc_age=pd.get_dummies(final_df[\\'age\\'], prefix=\\'age\\')\\nfinal_df=pd.concat([final_df,enc_age], axis=1)\\nfinal_df=final_df.drop(\\'age\\', axis=1)\\n\\n'"
      ]
     },
     "execution_count": 8,
     "metadata": {},
     "output_type": "execute_result"
    }
   ],
   "source": [
    "\"\"\"\"\"\n",
    "enc_age=pd.get_dummies(final_df['age'], prefix='age')\n",
    "final_df=pd.concat([final_df,enc_age], axis=1)\n",
    "final_df=final_df.drop('age', axis=1)\n",
    "\n",
    "\"\"\"\"\""
   ]
  },
  {
   "cell_type": "code",
   "execution_count": 9,
   "id": "1ed097ab",
   "metadata": {},
   "outputs": [
    {
     "data": {
      "text/html": [
       "<div>\n",
       "<style scoped>\n",
       "    .dataframe tbody tr th:only-of-type {\n",
       "        vertical-align: middle;\n",
       "    }\n",
       "\n",
       "    .dataframe tbody tr th {\n",
       "        vertical-align: top;\n",
       "    }\n",
       "\n",
       "    .dataframe thead th {\n",
       "        text-align: right;\n",
       "    }\n",
       "</style>\n",
       "<table border=\"1\" class=\"dataframe\">\n",
       "  <thead>\n",
       "    <tr style=\"text-align: right;\">\n",
       "      <th></th>\n",
       "      <th>age</th>\n",
       "      <th>pixels</th>\n",
       "    </tr>\n",
       "  </thead>\n",
       "  <tbody>\n",
       "    <tr>\n",
       "      <th>0</th>\n",
       "      <td>0</td>\n",
       "      <td>129 128 128 126 127 130 133 135 139 142 145 14...</td>\n",
       "    </tr>\n",
       "    <tr>\n",
       "      <th>1</th>\n",
       "      <td>0</td>\n",
       "      <td>164 74 111 168 169 171 175 182 184 188 193 199...</td>\n",
       "    </tr>\n",
       "    <tr>\n",
       "      <th>2</th>\n",
       "      <td>0</td>\n",
       "      <td>67 70 71 70 69 67 70 79 90 103 116 132 145 155...</td>\n",
       "    </tr>\n",
       "    <tr>\n",
       "      <th>3</th>\n",
       "      <td>0</td>\n",
       "      <td>193 197 198 200 199 200 202 203 204 205 208 21...</td>\n",
       "    </tr>\n",
       "    <tr>\n",
       "      <th>4</th>\n",
       "      <td>0</td>\n",
       "      <td>202 205 209 210 209 209 210 211 212 214 218 21...</td>\n",
       "    </tr>\n",
       "  </tbody>\n",
       "</table>\n",
       "</div>"
      ],
      "text/plain": [
       "   age                                             pixels\n",
       "0    0  129 128 128 126 127 130 133 135 139 142 145 14...\n",
       "1    0  164 74 111 168 169 171 175 182 184 188 193 199...\n",
       "2    0  67 70 71 70 69 67 70 79 90 103 116 132 145 155...\n",
       "3    0  193 197 198 200 199 200 202 203 204 205 208 21...\n",
       "4    0  202 205 209 210 209 209 210 211 212 214 218 21..."
      ]
     },
     "execution_count": 9,
     "metadata": {},
     "output_type": "execute_result"
    }
   ],
   "source": [
    "final_df.head()"
   ]
  },
  {
   "cell_type": "code",
   "execution_count": 10,
   "id": "db4a2e84",
   "metadata": {},
   "outputs": [],
   "source": [
    "X=final_df.iloc[:,1:]\n",
    "y=final_df.iloc[:,:1]"
   ]
  },
  {
   "cell_type": "code",
   "execution_count": 11,
   "id": "2e2e54e0",
   "metadata": {
    "scrolled": true
   },
   "outputs": [
    {
     "name": "stdout",
     "output_type": "stream",
     "text": [
      "2304 48 48\n"
     ]
    }
   ],
   "source": [
    "num_pixels = len(X['pixels'][0].split(\" \"))\n",
    "img_height = int(np.sqrt(len(X['pixels'][0].split(\" \"))))\n",
    "img_width = int(np.sqrt(len(X['pixels'][0].split(\" \"))))\n",
    "print(num_pixels, img_height, img_width)"
   ]
  },
  {
   "cell_type": "code",
   "execution_count": 12,
   "id": "9ac9bb6b",
   "metadata": {
    "scrolled": true
   },
   "outputs": [
    {
     "name": "stderr",
     "output_type": "stream",
     "text": [
      "C:\\Users\\Zephyrus\\AppData\\Local\\Temp/ipykernel_23412/639216845.py:3: DeprecationWarning: `np.int` is a deprecated alias for the builtin `int`. To silence this warning, use `int` by itself. Doing this will not modify any behavior and is safe. When replacing `np.int`, you may wish to use e.g. `np.int64` or `np.int32` to specify the precision. If you wish to review your current use, check the release note link for additional information.\n",
      "Deprecated in NumPy 1.20; for more details and guidance: https://numpy.org/devdocs/release/1.20.0-notes.html#deprecations\n",
      "  X = X.apply(lambda x:np.array(list(map(lambda z:np.int(z), x))))\n"
     ]
    },
    {
     "name": "stdout",
     "output_type": "stream",
     "text": [
      "X shape:  (23705, 48, 48, 1)\n"
     ]
    }
   ],
   "source": [
    "X = pd.Series(X['pixels'])\n",
    "X = X.apply(lambda x:x.split(' '))\n",
    "X = X.apply(lambda x:np.array(list(map(lambda z:np.int(z), x))))\n",
    "X = np.array(X)\n",
    "X = np.stack(np.array(X), axis=0)\n",
    "\n",
    "# reshape data\n",
    "X = X.reshape(-1, 48, 48, 1)\n",
    "print(\"X shape: \", X.shape)"
   ]
  },
  {
   "cell_type": "code",
   "execution_count": 13,
   "id": "a18a51e3",
   "metadata": {
    "scrolled": true
   },
   "outputs": [
    {
     "data": {
      "image/png": "[encoded data removed]",
      "text/plain": [
       "<Figure size 1152x1152 with 25 Axes>"
      ]
     },
     "metadata": {},
     "output_type": "display_data"
    }
   ],
   "source": [
    "plt.figure(figsize=(16,16))\n",
    "for i,a in zip(np.random.randint(0, 23705, 25), range(1,26)):\n",
    "    plt.subplot(5,5,a)\n",
    "    plt.xticks([])\n",
    "    plt.yticks([])\n",
    "    plt.grid(False)\n",
    "    plt.imshow(X[i])\n",
    "plt.show()"
   ]
  },
  {
   "cell_type": "code",
   "execution_count": 14,
   "id": "28260601",
   "metadata": {},
   "outputs": [],
   "source": [
    "X=X/255\n",
    "X=X/255"
   ]
  },
  {
   "cell_type": "code",
   "execution_count": 15,
   "id": "5bc16697",
   "metadata": {},
   "outputs": [],
   "source": [
    "from tensorflow.keras.preprocessing.image import ImageDataGenerator\n",
    "\n",
    "datagen = ImageDataGenerator(\n",
    "       featurewise_center = False,\n",
    "       samplewise_center = False,\n",
    "       featurewise_std_normalization = False,\n",
    "       samplewise_std_normalization=False,  \n",
    "       zca_whitening=False,\n",
    "       rotation_range=5, \n",
    "       zoom_range = 0.1,\n",
    "       width_shift_range=0.1, \n",
    "       height_shift_range=0.1,  \n",
    "       horizontal_flip=False,  \n",
    "       vertical_flip=False\n",
    ")\n",
    "\n",
    "datagen.fit(X)"
   ]
  },
  {
   "cell_type": "code",
   "execution_count": 16,
   "id": "c81fcde8",
   "metadata": {
    "scrolled": false
   },
   "outputs": [
    {
     "data": {
      "text/plain": [
       "array([[[[1.98385236e-03],\n",
       "         [1.96847366e-03],\n",
       "         [1.96847366e-03],\n",
       "         ...,\n",
       "         [1.81468666e-03],\n",
       "         [1.52249135e-03],\n",
       "         [8.15071126e-04]],\n",
       "\n",
       "        [[1.99923106e-03],\n",
       "         [1.98385236e-03],\n",
       "         [1.96847366e-03],\n",
       "         ...,\n",
       "         [1.79930796e-03],\n",
       "         [1.50711265e-03],\n",
       "         [7.99692426e-04]],\n",
       "\n",
       "        [[2.01460977e-03],\n",
       "         [1.98385236e-03],\n",
       "         [1.99923106e-03],\n",
       "         ...,\n",
       "         [1.75317186e-03],\n",
       "         [1.49173395e-03],\n",
       "         [7.68935025e-04]],\n",
       "\n",
       "        ...,\n",
       "\n",
       "        [[1.86082276e-03],\n",
       "         [2.12226067e-03],\n",
       "         [2.26066897e-03],\n",
       "         ...,\n",
       "         [2.32218378e-03],\n",
       "         [2.30680507e-03],\n",
       "         [2.27604767e-03]],\n",
       "\n",
       "        [[1.79930796e-03],\n",
       "         [2.10688197e-03],\n",
       "         [2.24529027e-03],\n",
       "         ...,\n",
       "         [2.29142637e-03],\n",
       "         [2.27604767e-03],\n",
       "         [2.27604767e-03]],\n",
       "\n",
       "        [[1.76855056e-03],\n",
       "         [2.07612457e-03],\n",
       "         [2.18377547e-03],\n",
       "         ...,\n",
       "         [2.24529027e-03],\n",
       "         [2.24529027e-03],\n",
       "         [2.24529027e-03]]],\n",
       "\n",
       "\n",
       "       [[[2.52210688e-03],\n",
       "         [1.13802384e-03],\n",
       "         [1.70703576e-03],\n",
       "         ...,\n",
       "         [1.70703576e-03],\n",
       "         [1.70703576e-03],\n",
       "         [1.59938485e-03]],\n",
       "\n",
       "        [[2.75278739e-03],\n",
       "         [1.07650903e-03],\n",
       "         [1.96847366e-03],\n",
       "         ...,\n",
       "         [1.72241446e-03],\n",
       "         [1.73779316e-03],\n",
       "         [1.66089965e-03]],\n",
       "\n",
       "        [[2.70665129e-03],\n",
       "         [1.09188774e-03],\n",
       "         [2.24529027e-03],\n",
       "         ...,\n",
       "         [1.72241446e-03],\n",
       "         [1.72241446e-03],\n",
       "         [1.67627835e-03]],\n",
       "\n",
       "        ...,\n",
       "\n",
       "        [[2.95271050e-03],\n",
       "         [3.01422530e-03],\n",
       "         [3.61399462e-03],\n",
       "         ...,\n",
       "         [1.70703576e-03],\n",
       "         [1.90695886e-03],\n",
       "         [1.72241446e-03]],\n",
       "\n",
       "        [[3.53710111e-03],\n",
       "         [3.47558631e-03],\n",
       "         [3.58323722e-03],\n",
       "         ...,\n",
       "         [3.04498270e-03],\n",
       "         [3.02960400e-03],\n",
       "         [2.76816609e-03]],\n",
       "\n",
       "        [[3.66013072e-03],\n",
       "         [3.67550942e-03],\n",
       "         [3.58323722e-03],\n",
       "         ...,\n",
       "         [2.79892349e-03],\n",
       "         [2.61437908e-03],\n",
       "         [2.27604767e-03]]],\n",
       "\n",
       "\n",
       "       [[[1.03037293e-03],\n",
       "         [1.07650903e-03],\n",
       "         [1.09188774e-03],\n",
       "         ...,\n",
       "         [3.02960400e-03],\n",
       "         [2.98346790e-03],\n",
       "         [2.95271050e-03]],\n",
       "\n",
       "        [[9.99615532e-04],\n",
       "         [1.01499423e-03],\n",
       "         [1.06113033e-03],\n",
       "         ...,\n",
       "         [3.02960400e-03],\n",
       "         [2.98346790e-03],\n",
       "         [2.95271050e-03]],\n",
       "\n",
       "        [[9.38100730e-04],\n",
       "         [9.68858131e-04],\n",
       "         [1.06113033e-03],\n",
       "         ...,\n",
       "         [3.02960400e-03],\n",
       "         [2.98346790e-03],\n",
       "         [2.92195309e-03]],\n",
       "\n",
       "        ...,\n",
       "\n",
       "        [[2.44521338e-03],\n",
       "         [2.41445598e-03],\n",
       "         [2.44521338e-03],\n",
       "         ...,\n",
       "         [1.75317186e-03],\n",
       "         [1.61476355e-03],\n",
       "         [1.61476355e-03]],\n",
       "\n",
       "        [[1.56862745e-03],\n",
       "         [1.75317186e-03],\n",
       "         [1.69165705e-03],\n",
       "         ...,\n",
       "         [1.75317186e-03],\n",
       "         [1.69165705e-03],\n",
       "         [1.64552095e-03]],\n",
       "\n",
       "        [[1.50711265e-03],\n",
       "         [1.49173395e-03],\n",
       "         [1.46097655e-03],\n",
       "         ...,\n",
       "         [1.72241446e-03],\n",
       "         [1.70703576e-03],\n",
       "         [1.66089965e-03]]],\n",
       "\n",
       "\n",
       "       ...,\n",
       "\n",
       "\n",
       "       [[[9.07343329e-04],\n",
       "         [7.68935025e-04],\n",
       "         [5.69011918e-04],\n",
       "         ...,\n",
       "         [1.83006536e-03],\n",
       "         [1.73779316e-03],\n",
       "         [1.50711265e-03]],\n",
       "\n",
       "        [[8.61207228e-04],\n",
       "         [7.38177624e-04],\n",
       "         [6.76662822e-04],\n",
       "         ...,\n",
       "         [1.70703576e-03],\n",
       "         [1.76855056e-03],\n",
       "         [1.49173395e-03]],\n",
       "\n",
       "        [[6.15148020e-04],\n",
       "         [4.92118416e-04],\n",
       "         [3.99846213e-04],\n",
       "         ...,\n",
       "         [1.66089965e-03],\n",
       "         [1.79930796e-03],\n",
       "         [1.55324875e-03]],\n",
       "\n",
       "        ...,\n",
       "\n",
       "        [[5.38254517e-04],\n",
       "         [8.45828527e-04],\n",
       "         [1.63014225e-03],\n",
       "         ...,\n",
       "         [1.43021915e-03],\n",
       "         [9.38100730e-04],\n",
       "         [9.99615532e-04]],\n",
       "\n",
       "        [[6.30526720e-04],\n",
       "         [6.15148020e-04],\n",
       "         [1.09188774e-03],\n",
       "         ...,\n",
       "         [1.59938485e-03],\n",
       "         [1.01499423e-03],\n",
       "         [1.09188774e-03]],\n",
       "\n",
       "        [[7.22798923e-04],\n",
       "         [5.38254517e-04],\n",
       "         [6.92041522e-04],\n",
       "         ...,\n",
       "         [1.50711265e-03],\n",
       "         [1.19953864e-03],\n",
       "         [1.19953864e-03]]],\n",
       "\n",
       "\n",
       "       [[[6.92041522e-04],\n",
       "         [1.66089965e-03],\n",
       "         [1.84544406e-03],\n",
       "         ...,\n",
       "         [4.76739715e-04],\n",
       "         [5.53633218e-04],\n",
       "         [8.15071126e-04]],\n",
       "\n",
       "        [[1.12264514e-03],\n",
       "         [1.44559785e-03],\n",
       "         [2.15301807e-03],\n",
       "         ...,\n",
       "         [4.45982314e-04],\n",
       "         [4.61361015e-04],\n",
       "         [6.92041522e-04]],\n",
       "\n",
       "        [[1.35332564e-03],\n",
       "         [1.70703576e-03],\n",
       "         [2.46059208e-03],\n",
       "         ...,\n",
       "         [4.30603614e-04],\n",
       "         [1.84544406e-04],\n",
       "         [5.07497116e-04]],\n",
       "\n",
       "        ...,\n",
       "\n",
       "        [[9.22722030e-05],\n",
       "         [3.07574010e-05],\n",
       "         [1.53787005e-04],\n",
       "         ...,\n",
       "         [1.23029604e-04],\n",
       "         [2.15301807e-04],\n",
       "         [5.22875817e-04]],\n",
       "\n",
       "        [[3.07574010e-05],\n",
       "         [6.15148020e-05],\n",
       "         [7.99692426e-04],\n",
       "         ...,\n",
       "         [2.46059208e-04],\n",
       "         [7.84313725e-04],\n",
       "         [6.30526720e-04]],\n",
       "\n",
       "        [[1.53787005e-05],\n",
       "         [5.53633218e-04],\n",
       "         [1.07650903e-03],\n",
       "         ...,\n",
       "         [4.92118416e-04],\n",
       "         [5.38254517e-04],\n",
       "         [5.38254517e-04]]],\n",
       "\n",
       "\n",
       "       [[[2.39907728e-03],\n",
       "         [2.47597078e-03],\n",
       "         [2.46059208e-03],\n",
       "         ...,\n",
       "         [2.29142637e-03],\n",
       "         [2.19915417e-03],\n",
       "         [2.24529027e-03]],\n",
       "\n",
       "        [[2.35294118e-03],\n",
       "         [2.22991157e-03],\n",
       "         [2.52210688e-03],\n",
       "         ...,\n",
       "         [2.26066897e-03],\n",
       "         [2.12226067e-03],\n",
       "         [2.02998847e-03]],\n",
       "\n",
       "        [[2.27604767e-03],\n",
       "         [2.22991157e-03],\n",
       "         [2.44521338e-03],\n",
       "         ...,\n",
       "         [2.29142637e-03],\n",
       "         [2.15301807e-03],\n",
       "         [2.18377547e-03]],\n",
       "\n",
       "        ...,\n",
       "\n",
       "        [[3.13725490e-03],\n",
       "         [3.36793541e-03],\n",
       "         [3.41407151e-03],\n",
       "         ...,\n",
       "         [2.90657439e-03],\n",
       "         [2.82968089e-03],\n",
       "         [2.64513649e-03]],\n",
       "\n",
       "        [[3.27566321e-03],\n",
       "         [3.22952710e-03],\n",
       "         [3.42945021e-03],\n",
       "         ...,\n",
       "         [2.99884660e-03],\n",
       "         [2.93733180e-03],\n",
       "         [2.58362168e-03]],\n",
       "\n",
       "        [[3.26028451e-03],\n",
       "         [3.35255671e-03],\n",
       "         [3.41407151e-03],\n",
       "         ...,\n",
       "         [2.92195309e-03],\n",
       "         [2.82968089e-03],\n",
       "         [2.67589389e-03]]]])"
      ]
     },
     "execution_count": 16,
     "metadata": {},
     "output_type": "execute_result"
    }
   ],
   "source": [
    "X"
   ]
  },
  {
   "cell_type": "code",
   "execution_count": 17,
   "id": "65996e42",
   "metadata": {},
   "outputs": [
    {
     "data": {
      "text/html": [
       "<div>\n",
       "<style scoped>\n",
       "    .dataframe tbody tr th:only-of-type {\n",
       "        vertical-align: middle;\n",
       "    }\n",
       "\n",
       "    .dataframe tbody tr th {\n",
       "        vertical-align: top;\n",
       "    }\n",
       "\n",
       "    .dataframe thead th {\n",
       "        text-align: right;\n",
       "    }\n",
       "</style>\n",
       "<table border=\"1\" class=\"dataframe\">\n",
       "  <thead>\n",
       "    <tr style=\"text-align: right;\">\n",
       "      <th></th>\n",
       "      <th>age</th>\n",
       "    </tr>\n",
       "  </thead>\n",
       "  <tbody>\n",
       "    <tr>\n",
       "      <th>0</th>\n",
       "      <td>0</td>\n",
       "    </tr>\n",
       "    <tr>\n",
       "      <th>1</th>\n",
       "      <td>0</td>\n",
       "    </tr>\n",
       "    <tr>\n",
       "      <th>2</th>\n",
       "      <td>0</td>\n",
       "    </tr>\n",
       "    <tr>\n",
       "      <th>3</th>\n",
       "      <td>0</td>\n",
       "    </tr>\n",
       "    <tr>\n",
       "      <th>4</th>\n",
       "      <td>0</td>\n",
       "    </tr>\n",
       "    <tr>\n",
       "      <th>...</th>\n",
       "      <td>...</td>\n",
       "    </tr>\n",
       "    <tr>\n",
       "      <th>23700</th>\n",
       "      <td>1</td>\n",
       "    </tr>\n",
       "    <tr>\n",
       "      <th>23701</th>\n",
       "      <td>1</td>\n",
       "    </tr>\n",
       "    <tr>\n",
       "      <th>23702</th>\n",
       "      <td>1</td>\n",
       "    </tr>\n",
       "    <tr>\n",
       "      <th>23703</th>\n",
       "      <td>1</td>\n",
       "    </tr>\n",
       "    <tr>\n",
       "      <th>23704</th>\n",
       "      <td>1</td>\n",
       "    </tr>\n",
       "  </tbody>\n",
       "</table>\n",
       "<p>23705 rows × 1 columns</p>\n",
       "</div>"
      ],
      "text/plain": [
       "       age\n",
       "0        0\n",
       "1        0\n",
       "2        0\n",
       "3        0\n",
       "4        0\n",
       "...    ...\n",
       "23700    1\n",
       "23701    1\n",
       "23702    1\n",
       "23703    1\n",
       "23704    1\n",
       "\n",
       "[23705 rows x 1 columns]"
      ]
     },
     "execution_count": 17,
     "metadata": {},
     "output_type": "execute_result"
    }
   ],
   "source": [
    "y"
   ]
  },
  {
   "cell_type": "code",
   "execution_count": 18,
   "id": "421936ae",
   "metadata": {
    "scrolled": false
   },
   "outputs": [
    {
     "name": "stderr",
     "output_type": "stream",
     "text": [
      "C:\\Users\\Zephyrus\\anaconda3\\lib\\site-packages\\sklearn\\utils\\validation.py:63: DataConversionWarning: A column-vector y was passed when a 1d array was expected. Please change the shape of y to (n_samples, ), for example using ravel().\n",
      "  return f(*args, **kwargs)\n"
     ]
    }
   ],
   "source": [
    "from sklearn.preprocessing import LabelEncoder\n",
    "from tensorflow.keras.utils import to_categorical\n",
    "lb=LabelEncoder()\n",
    "y=to_categorical(lb.fit_transform(y))"
   ]
  },
  {
   "cell_type": "code",
   "execution_count": 19,
   "id": "e5cbcbb0",
   "metadata": {},
   "outputs": [
    {
     "data": {
      "text/plain": [
       "array([0, 1], dtype=int64)"
      ]
     },
     "execution_count": 19,
     "metadata": {},
     "output_type": "execute_result"
    }
   ],
   "source": [
    "lb.classes_"
   ]
  },
  {
   "cell_type": "code",
   "execution_count": 20,
   "id": "09a238d0",
   "metadata": {},
   "outputs": [
    {
     "data": {
      "text/plain": [
       "(48, 48, 1)"
      ]
     },
     "execution_count": 20,
     "metadata": {},
     "output_type": "execute_result"
    }
   ],
   "source": [
    "X[1].shape"
   ]
  },
  {
   "cell_type": "code",
   "execution_count": null,
   "id": "3696ca98",
   "metadata": {},
   "outputs": [],
   "source": []
  },
  {
   "cell_type": "code",
   "execution_count": 21,
   "id": "ae1fdf0a",
   "metadata": {},
   "outputs": [
    {
     "data": {
      "text/plain": [
       "'\"\"\\nfrom tensorflow.keras.utils import to_categorical\\ny[\"age\"] = pd.cut(y[\"age\"],bins=[0,3,18,45,64,116],labels=[\"0\",\"1\",\"2\",\"3\",\"4\"])\\nage_matrix = np.array(y[\"age\"])\\nage = to_categorical(age_matrix, num_classes = 5)\\nprint(age)\\n\\n'"
      ]
     },
     "execution_count": 21,
     "metadata": {},
     "output_type": "execute_result"
    }
   ],
   "source": [
    "\"\"\"\"\"\n",
    "from tensorflow.keras.utils import to_categorical\n",
    "y[\"age\"] = pd.cut(y[\"age\"],bins=[0,3,18,45,64,116],labels=[\"0\",\"1\",\"2\",\"3\",\"4\"])\n",
    "age_matrix = np.array(y[\"age\"])\n",
    "age = to_categorical(age_matrix, num_classes = 5)\n",
    "print(age)\n",
    "\n",
    "\"\"\"\"\""
   ]
  },
  {
   "cell_type": "code",
   "execution_count": 22,
   "id": "63b065f7",
   "metadata": {},
   "outputs": [],
   "source": [
    "from sklearn.model_selection import train_test_split\n",
    "\n",
    "X_train, X_test, y_train, y_test=train_test_split(X,y, random_state=42, test_size=0.2)"
   ]
  },
  {
   "cell_type": "code",
   "execution_count": 23,
   "id": "689d6299",
   "metadata": {},
   "outputs": [
    {
     "data": {
      "text/plain": [
       "array([[[[1.59938485e-03],\n",
       "         [1.78392926e-03],\n",
       "         [1.72241446e-03],\n",
       "         ...,\n",
       "         [2.44521338e-03],\n",
       "         [2.26066897e-03],\n",
       "         [2.10688197e-03]],\n",
       "\n",
       "        [[1.55324875e-03],\n",
       "         [1.58400615e-03],\n",
       "         [1.79930796e-03],\n",
       "         ...,\n",
       "         [2.46059208e-03],\n",
       "         [2.30680507e-03],\n",
       "         [2.06074587e-03]],\n",
       "\n",
       "        [[1.49173395e-03],\n",
       "         [1.36870434e-03],\n",
       "         [1.76855056e-03],\n",
       "         ...,\n",
       "         [2.44521338e-03],\n",
       "         [2.24529027e-03],\n",
       "         [2.01460977e-03]],\n",
       "\n",
       "        ...,\n",
       "\n",
       "        [[1.63014225e-03],\n",
       "         [1.72241446e-03],\n",
       "         [1.39946175e-03],\n",
       "         ...,\n",
       "         [2.01460977e-03],\n",
       "         [1.58400615e-03],\n",
       "         [1.09188774e-03]],\n",
       "\n",
       "        [[1.50711265e-03],\n",
       "         [1.61476355e-03],\n",
       "         [1.58400615e-03],\n",
       "         ...,\n",
       "         [1.36870434e-03],\n",
       "         [1.46097655e-03],\n",
       "         [1.06113033e-03]],\n",
       "\n",
       "        [[1.56862745e-03],\n",
       "         [1.64552095e-03],\n",
       "         [1.69165705e-03],\n",
       "         ...,\n",
       "         [2.19915417e-03],\n",
       "         [1.75317186e-03],\n",
       "         [1.27643214e-03]]],\n",
       "\n",
       "\n",
       "       [[[3.02960400e-03],\n",
       "         [3.02960400e-03],\n",
       "         [3.01422530e-03],\n",
       "         ...,\n",
       "         [1.90695886e-03],\n",
       "         [2.09150327e-03],\n",
       "         [2.09150327e-03]],\n",
       "\n",
       "        [[2.93733180e-03],\n",
       "         [2.98346790e-03],\n",
       "         [2.96808920e-03],\n",
       "         ...,\n",
       "         [2.06074587e-03],\n",
       "         [2.09150327e-03],\n",
       "         [2.13763937e-03]],\n",
       "\n",
       "        [[2.84505959e-03],\n",
       "         [2.98346790e-03],\n",
       "         [2.93733180e-03],\n",
       "         ...,\n",
       "         [2.21453287e-03],\n",
       "         [2.09150327e-03],\n",
       "         [2.13763937e-03]],\n",
       "\n",
       "        ...,\n",
       "\n",
       "        [[5.22875817e-04],\n",
       "         [5.22875817e-04],\n",
       "         [3.38331411e-04],\n",
       "         ...,\n",
       "         [2.04536717e-03],\n",
       "         [2.09150327e-03],\n",
       "         [2.12226067e-03]],\n",
       "\n",
       "        [[5.99769319e-04],\n",
       "         [6.76662822e-04],\n",
       "         [4.61361015e-04],\n",
       "         ...,\n",
       "         [2.06074587e-03],\n",
       "         [2.10688197e-03],\n",
       "         [2.22991157e-03]],\n",
       "\n",
       "        [[6.76662822e-04],\n",
       "         [6.15148020e-04],\n",
       "         [4.45982314e-04],\n",
       "         ...,\n",
       "         [2.12226067e-03],\n",
       "         [2.18377547e-03],\n",
       "         [2.24529027e-03]]],\n",
       "\n",
       "\n",
       "       [[[2.89119569e-03],\n",
       "         [2.89119569e-03],\n",
       "         [3.55247982e-03],\n",
       "         ...,\n",
       "         [3.12187620e-03],\n",
       "         [3.07574010e-03],\n",
       "         [3.26028451e-03]],\n",
       "\n",
       "        [[2.78354479e-03],\n",
       "         [3.38331411e-03],\n",
       "         [3.44482891e-03],\n",
       "         ...,\n",
       "         [3.36793541e-03],\n",
       "         [3.06036140e-03],\n",
       "         [3.02960400e-03]],\n",
       "\n",
       "        [[2.99884660e-03],\n",
       "         [3.33717801e-03],\n",
       "         [3.21414840e-03],\n",
       "         ...,\n",
       "         [3.41407151e-03],\n",
       "         [3.04498270e-03],\n",
       "         [2.78354479e-03]],\n",
       "\n",
       "        ...,\n",
       "\n",
       "        [[2.47597078e-03],\n",
       "         [2.35294118e-03],\n",
       "         [2.26066897e-03],\n",
       "         ...,\n",
       "         [2.12226067e-03],\n",
       "         [4.61361015e-04],\n",
       "         [3.99846213e-04]],\n",
       "\n",
       "        [[2.24529027e-03],\n",
       "         [2.39907728e-03],\n",
       "         [2.35294118e-03],\n",
       "         ...,\n",
       "         [2.04536717e-03],\n",
       "         [8.30449827e-04],\n",
       "         [4.15224913e-04]],\n",
       "\n",
       "        [[2.24529027e-03],\n",
       "         [2.33756248e-03],\n",
       "         [1.35332564e-03],\n",
       "         ...,\n",
       "         [2.06074587e-03],\n",
       "         [1.70703576e-03],\n",
       "         [4.45982314e-04]]],\n",
       "\n",
       "\n",
       "       ...,\n",
       "\n",
       "\n",
       "       [[[1.09188774e-03],\n",
       "         [9.68858131e-04],\n",
       "         [8.45828527e-04],\n",
       "         ...,\n",
       "         [1.35332564e-03],\n",
       "         [3.16801230e-03],\n",
       "         [3.19876970e-03]],\n",
       "\n",
       "        [[1.15340254e-03],\n",
       "         [1.07650903e-03],\n",
       "         [1.21491734e-03],\n",
       "         ...,\n",
       "         [1.36870434e-03],\n",
       "         [3.04498270e-03],\n",
       "         [3.18339100e-03]],\n",
       "\n",
       "        [[1.63014225e-03],\n",
       "         [2.09150327e-03],\n",
       "         [2.75278739e-03],\n",
       "         ...,\n",
       "         [1.58400615e-03],\n",
       "         [2.78354479e-03],\n",
       "         [3.26028451e-03]],\n",
       "\n",
       "        ...,\n",
       "\n",
       "        [[3.19876970e-03],\n",
       "         [3.32179931e-03],\n",
       "         [3.49096501e-03],\n",
       "         ...,\n",
       "         [2.50672818e-03],\n",
       "         [2.53748558e-03],\n",
       "         [2.61437908e-03]],\n",
       "\n",
       "        [[3.16801230e-03],\n",
       "         [3.24490581e-03],\n",
       "         [3.49096501e-03],\n",
       "         ...,\n",
       "         [2.52210688e-03],\n",
       "         [2.61437908e-03],\n",
       "         [2.76816609e-03]],\n",
       "\n",
       "        [[3.13725490e-03],\n",
       "         [3.19876970e-03],\n",
       "         [3.42945021e-03],\n",
       "         ...,\n",
       "         [2.59900038e-03],\n",
       "         [2.67589389e-03],\n",
       "         [2.78354479e-03]]],\n",
       "\n",
       "\n",
       "       [[[2.92195309e-04],\n",
       "         [2.76816609e-04],\n",
       "         [3.07574010e-04],\n",
       "         ...,\n",
       "         [7.68935025e-05],\n",
       "         [9.22722030e-05],\n",
       "         [1.84544406e-04]],\n",
       "\n",
       "        [[9.84236832e-04],\n",
       "         [1.69165705e-04],\n",
       "         [2.15301807e-04],\n",
       "         ...,\n",
       "         [1.38408304e-04],\n",
       "         [6.15148020e-05],\n",
       "         [1.38408304e-04]],\n",
       "\n",
       "        [[2.21453287e-03],\n",
       "         [2.15301807e-04],\n",
       "         [2.30680507e-04],\n",
       "         ...,\n",
       "         [1.23029604e-04],\n",
       "         [4.61361015e-05],\n",
       "         [9.22722030e-05]],\n",
       "\n",
       "        ...,\n",
       "\n",
       "        [[2.76816609e-04],\n",
       "         [3.22952710e-04],\n",
       "         [3.84467512e-04],\n",
       "         ...,\n",
       "         [1.09188774e-03],\n",
       "         [1.07650903e-03],\n",
       "         [8.91964629e-04]],\n",
       "\n",
       "        [[2.61437908e-04],\n",
       "         [3.07574010e-04],\n",
       "         [3.53710111e-04],\n",
       "         ...,\n",
       "         [1.06113033e-03],\n",
       "         [1.04575163e-03],\n",
       "         [9.22722030e-04]],\n",
       "\n",
       "        [[2.46059208e-04],\n",
       "         [2.92195309e-04],\n",
       "         [3.53710111e-04],\n",
       "         ...,\n",
       "         [1.06113033e-03],\n",
       "         [1.03037293e-03],\n",
       "         [9.53479431e-04]]],\n",
       "\n",
       "\n",
       "       [[[1.99923106e-04],\n",
       "         [1.84544406e-04],\n",
       "         [1.99923106e-04],\n",
       "         ...,\n",
       "         [3.99846213e-04],\n",
       "         [3.38331411e-04],\n",
       "         [4.30603614e-04]],\n",
       "\n",
       "        [[1.99923106e-04],\n",
       "         [1.84544406e-04],\n",
       "         [2.76816609e-04],\n",
       "         ...,\n",
       "         [1.99923106e-04],\n",
       "         [2.76816609e-04],\n",
       "         [1.38408304e-04]],\n",
       "\n",
       "        [[2.30680507e-04],\n",
       "         [2.30680507e-04],\n",
       "         [2.76816609e-04],\n",
       "         ...,\n",
       "         [9.53479431e-04],\n",
       "         [3.53710111e-04],\n",
       "         [1.23029604e-04]],\n",
       "\n",
       "        ...,\n",
       "\n",
       "        [[1.19953864e-03],\n",
       "         [1.33794694e-03],\n",
       "         [1.19953864e-03],\n",
       "         ...,\n",
       "         [2.47597078e-03],\n",
       "         [7.68935025e-04],\n",
       "         [8.76585928e-04]],\n",
       "\n",
       "        [[1.27643214e-03],\n",
       "         [1.30718954e-03],\n",
       "         [1.47635525e-03],\n",
       "         ...,\n",
       "         [2.55286428e-03],\n",
       "         [9.84236832e-04],\n",
       "         [4.76739715e-04]],\n",
       "\n",
       "        [[1.12264514e-03],\n",
       "         [1.19953864e-03],\n",
       "         [1.26105344e-03],\n",
       "         ...,\n",
       "         [2.44521338e-03],\n",
       "         [1.10726644e-03],\n",
       "         [4.15224913e-04]]]])"
      ]
     },
     "execution_count": 23,
     "metadata": {},
     "output_type": "execute_result"
    }
   ],
   "source": [
    "X_train"
   ]
  },
  {
   "cell_type": "code",
   "execution_count": 24,
   "id": "e3f55db2",
   "metadata": {
    "scrolled": true
   },
   "outputs": [
    {
     "data": {
      "text/plain": [
       "array([[0., 1.],\n",
       "       [0., 1.],\n",
       "       [1., 0.],\n",
       "       ...,\n",
       "       [1., 0.],\n",
       "       [0., 1.],\n",
       "       [0., 1.]], dtype=float32)"
      ]
     },
     "execution_count": 24,
     "metadata": {},
     "output_type": "execute_result"
    }
   ],
   "source": [
    "y_test"
   ]
  },
  {
   "cell_type": "code",
   "execution_count": 25,
   "id": "7eba7ec1",
   "metadata": {},
   "outputs": [],
   "source": [
    "ACCURACY_THRESHOLD = 0.94\n",
    "\n",
    "class myCallback(k.callbacks.Callback):\n",
    "    def on_epoch_end(self, epoch, logs={}):\n",
    "        if(logs.get('val_accuracy') > ACCURACY_THRESHOLD):\n",
    "            print(\"\\n\\nStopping training as we have reached %2.2f%% accuracy!\" %(ACCURACY_THRESHOLD*100))   \n",
    "            self.model.stop_training = True\n",
    "\n",
    "def trainModel(model, epochs, optimizer):\n",
    "    batch_size = 16\n",
    "    callback = myCallback()\n",
    "    model.compile(optimizer=optimizer,\n",
    "                  loss='binary_crossentropy',\n",
    "                  metrics='accuracy'\n",
    "    )\n",
    "    return model.fit(X_train, y_train, validation_data=(X_test, y_test), epochs=epochs, \n",
    "                     batch_size=batch_size, callbacks=[callback])\n",
    "\n",
    "def plotHistory(history):\n",
    "    print(\"Max. Validation Accuracy\",max(history.history[\"val_accuracy\"]))\n",
    "    pd.DataFrame(history.history).plot(figsize=(12,6))\n",
    "    plt.show()"
   ]
  },
  {
   "cell_type": "code",
   "execution_count": 26,
   "id": "432f70db",
   "metadata": {},
   "outputs": [
    {
     "name": "stdout",
     "output_type": "stream",
     "text": [
      "Model: \"sequential\"\n",
      "_________________________________________________________________\n",
      " Layer (type)                Output Shape              Param #   \n",
      "=================================================================\n",
      " conv2d (Conv2D)             (None, 48, 48, 32)        320       \n",
      "                                                                 \n",
      " batch_normalization (BatchN  (None, 48, 48, 32)       128       \n",
      " ormalization)                                                   \n",
      "                                                                 \n",
      " max_pooling2d (MaxPooling2D  (None, 24, 24, 32)       0         \n",
      " )                                                               \n",
      "                                                                 \n",
      " dropout (Dropout)           (None, 24, 24, 32)        0         \n",
      "                                                                 \n",
      " conv2d_1 (Conv2D)           (None, 24, 24, 64)        18496     \n",
      "                                                                 \n",
      " batch_normalization_1 (Batc  (None, 24, 24, 64)       256       \n",
      " hNormalization)                                                 \n",
      "                                                                 \n",
      " max_pooling2d_1 (MaxPooling  (None, 12, 12, 64)       0         \n",
      " 2D)                                                             \n",
      "                                                                 \n",
      " dropout_1 (Dropout)         (None, 12, 12, 64)        0         \n",
      "                                                                 \n",
      " conv2d_2 (Conv2D)           (None, 12, 12, 64)        36928     \n",
      "                                                                 \n",
      " batch_normalization_2 (Batc  (None, 12, 12, 64)       256       \n",
      " hNormalization)                                                 \n",
      "                                                                 \n",
      " max_pooling2d_2 (MaxPooling  (None, 6, 6, 64)         0         \n",
      " 2D)                                                             \n",
      "                                                                 \n",
      " dropout_2 (Dropout)         (None, 6, 6, 64)          0         \n",
      "                                                                 \n",
      " flatten (Flatten)           (None, 2304)              0         \n",
      "                                                                 \n",
      " dense (Dense)               (None, 512)               1180160   \n",
      "                                                                 \n",
      " dense_1 (Dense)             (None, 256)               131328    \n",
      "                                                                 \n",
      " dense_2 (Dense)             (None, 2)                 514       \n",
      "                                                                 \n",
      "=================================================================\n",
      "Total params: 1,368,386\n",
      "Trainable params: 1,368,066\n",
      "Non-trainable params: 320\n",
      "_________________________________________________________________\n"
     ]
    }
   ],
   "source": [
    "model=Sequential()\n",
    "model.add(Conv2D(32, kernel_size=(3,3), activation='relu', padding='same', input_shape=(48,48,1)))\n",
    "model.add(BatchNormalization())\n",
    "model.add(MaxPool2D(pool_size=(2,2), padding='same'))\n",
    "model.add(Dropout(0.2))\n",
    "model.add(Conv2D(64, kernel_size=(3,3), activation='relu', padding=\"same\"))\n",
    "model.add(BatchNormalization())\n",
    "model.add(MaxPool2D(pool_size=(2,2), padding='same'))\n",
    "model.add(Dropout(0.2))\n",
    "model.add(Conv2D(64, kernel_size=(3,3), activation='relu', padding=\"same\"))\n",
    "model.add(BatchNormalization())\n",
    "model.add(MaxPool2D(pool_size=(2,2), padding='same'),)\n",
    "model.add(Dropout(0.2))\n",
    "model.add(Flatten())\n",
    "model.add(Dense(512, activation='relu'))\n",
    "model.add(Dense(256, activation='relu'))\n",
    "model.add(Dense(2, activation='softmax'))\n",
    "\n",
    "model.summary()"
   ]
  },
  {
   "cell_type": "code",
   "execution_count": 27,
   "id": "d3247ef5",
   "metadata": {
    "scrolled": true
   },
   "outputs": [
    {
     "name": "stderr",
     "output_type": "stream",
     "text": [
      "C:\\Users\\Zephyrus\\anaconda3\\lib\\site-packages\\keras\\optimizer_v2\\adam.py:105: UserWarning: The `lr` argument is deprecated, use `learning_rate` instead.\n",
      "  super(Adam, self).__init__(name, **kwargs)\n"
     ]
    }
   ],
   "source": [
    "from tensorflow.keras.optimizers import Adam\n",
    "optimizer=Adam(lr=0.001)\n",
    "#model.compile(optimizer= optimizer, loss= 'categorical_crossentropy', metrics=['accuracy'])"
   ]
  },
  {
   "cell_type": "code",
   "execution_count": 28,
   "id": "48a129e2",
   "metadata": {
    "scrolled": true
   },
   "outputs": [
    {
     "name": "stdout",
     "output_type": "stream",
     "text": [
      "Epoch 1/30\n",
      "1186/1186 [==============================] - 46s 39ms/step - loss: 0.2800 - accuracy: 0.8999 - val_loss: 0.2352 - val_accuracy: 0.9213\n",
      "Epoch 2/30\n",
      "1186/1186 [==============================] - 45s 38ms/step - loss: 0.2095 - accuracy: 0.9279 - val_loss: 1.9178 - val_accuracy: 0.8283\n",
      "Epoch 3/30\n",
      "1186/1186 [==============================] - 42s 36ms/step - loss: 0.1832 - accuracy: 0.9371 - val_loss: 0.6317 - val_accuracy: 0.8376\n",
      "Epoch 4/30\n",
      "1186/1186 [==============================] - 43s 36ms/step - loss: 0.1673 - accuracy: 0.9404 - val_loss: 0.2337 - val_accuracy: 0.9154\n",
      "Epoch 5/30\n",
      "1185/1186 [============================>.] - ETA: 0s - loss: 0.1535 - accuracy: 0.9457\n",
      "\n",
      "Stopping training as we have reached 94.00% accuracy!\n",
      "1186/1186 [==============================] - 43s 36ms/step - loss: 0.1535 - accuracy: 0.9457 - val_loss: 0.1731 - val_accuracy: 0.9445\n"
     ]
    }
   ],
   "source": [
    "model_history=trainModel(model=model, epochs=30, optimizer=optimizer)"
   ]
  },
  {
   "cell_type": "code",
   "execution_count": 29,
   "id": "af799546",
   "metadata": {},
   "outputs": [],
   "source": [
    "#model.save('C:/Users/Zephyrus/Models/Age Recognition2/Model3.h5')"
   ]
  },
  {
   "cell_type": "code",
   "execution_count": 30,
   "id": "79b569fa",
   "metadata": {},
   "outputs": [],
   "source": [
    "predictions=model.predict(X_test)"
   ]
  },
  {
   "cell_type": "code",
   "execution_count": 31,
   "id": "55160563",
   "metadata": {},
   "outputs": [
    {
     "data": {
      "image/png": "[encoded data removed]",
      "text/plain": [
       "<Figure size 432x288 with 1 Axes>"
      ]
     },
     "metadata": {
      "needs_background": "light"
     },
     "output_type": "display_data"
    }
   ],
   "source": [
    "plt.plot(model_history.history['accuracy'])\n",
    "plt.plot(model_history.history['val_accuracy'])\n",
    "plt.title('Model Accuracy')\n",
    "plt.ylabel('Accuracy')\n",
    "plt.xlabel('Epoch')\n",
    "plt.legend(['Train', 'Test'], loc='upper left')\n",
    "plt.show()"
   ]
  },
  {
   "cell_type": "code",
   "execution_count": 32,
   "id": "e9a40e27",
   "metadata": {},
   "outputs": [
    {
     "data": {
      "image/png": "[encoded data removed]",
      "text/plain": [
       "<Figure size 432x288 with 1 Axes>"
      ]
     },
     "metadata": {
      "needs_background": "light"
     },
     "output_type": "display_data"
    }
   ],
   "source": [
    "plt.plot(model_history.history['loss'])\n",
    "plt.plot(model_history.history['val_loss'])\n",
    "plt.title('Model Loss')\n",
    "plt.ylabel('Loss')\n",
    "plt.xlabel('Epoch')\n",
    "plt.legend(['train', 'test'], loc='upper left')\n",
    "plt.show()"
   ]
  },
  {
   "cell_type": "code",
   "execution_count": 33,
   "id": "4ec5ad4e",
   "metadata": {},
   "outputs": [],
   "source": [
    "pred=model.predict(X_test)\n",
    "pred=pred.argmax(axis=1)\n",
    "pred=pred.astype(int).flatten()\n",
    "pred=lb.inverse_transform(pred)\n",
    "pred=pd.DataFrame({'Predicted Values':pred})"
   ]
  },
  {
   "cell_type": "code",
   "execution_count": 34,
   "id": "4823881d",
   "metadata": {},
   "outputs": [],
   "source": [
    "act=y_test.argmax(axis=1)\n",
    "act=act.astype(int).flatten()\n",
    "act=lb.inverse_transform(act)\n",
    "act=pd.DataFrame({'Actual Values': act})"
   ]
  },
  {
   "cell_type": "code",
   "execution_count": 35,
   "id": "d3ed365e",
   "metadata": {},
   "outputs": [],
   "source": [
    "result_df=act.join(pred)"
   ]
  },
  {
   "cell_type": "code",
   "execution_count": 36,
   "id": "c83c1b02",
   "metadata": {},
   "outputs": [
    {
     "data": {
      "text/html": [
       "<div>\n",
       "<style scoped>\n",
       "    .dataframe tbody tr th:only-of-type {\n",
       "        vertical-align: middle;\n",
       "    }\n",
       "\n",
       "    .dataframe tbody tr th {\n",
       "        vertical-align: top;\n",
       "    }\n",
       "\n",
       "    .dataframe thead th {\n",
       "        text-align: right;\n",
       "    }\n",
       "</style>\n",
       "<table border=\"1\" class=\"dataframe\">\n",
       "  <thead>\n",
       "    <tr style=\"text-align: right;\">\n",
       "      <th></th>\n",
       "      <th>Actual Values</th>\n",
       "      <th>Predicted Values</th>\n",
       "    </tr>\n",
       "  </thead>\n",
       "  <tbody>\n",
       "    <tr>\n",
       "      <th>20</th>\n",
       "      <td>1</td>\n",
       "      <td>1</td>\n",
       "    </tr>\n",
       "    <tr>\n",
       "      <th>21</th>\n",
       "      <td>1</td>\n",
       "      <td>1</td>\n",
       "    </tr>\n",
       "    <tr>\n",
       "      <th>22</th>\n",
       "      <td>1</td>\n",
       "      <td>1</td>\n",
       "    </tr>\n",
       "    <tr>\n",
       "      <th>23</th>\n",
       "      <td>1</td>\n",
       "      <td>1</td>\n",
       "    </tr>\n",
       "    <tr>\n",
       "      <th>24</th>\n",
       "      <td>0</td>\n",
       "      <td>1</td>\n",
       "    </tr>\n",
       "    <tr>\n",
       "      <th>25</th>\n",
       "      <td>1</td>\n",
       "      <td>1</td>\n",
       "    </tr>\n",
       "    <tr>\n",
       "      <th>26</th>\n",
       "      <td>1</td>\n",
       "      <td>1</td>\n",
       "    </tr>\n",
       "    <tr>\n",
       "      <th>27</th>\n",
       "      <td>0</td>\n",
       "      <td>0</td>\n",
       "    </tr>\n",
       "    <tr>\n",
       "      <th>28</th>\n",
       "      <td>1</td>\n",
       "      <td>1</td>\n",
       "    </tr>\n",
       "    <tr>\n",
       "      <th>29</th>\n",
       "      <td>1</td>\n",
       "      <td>1</td>\n",
       "    </tr>\n",
       "    <tr>\n",
       "      <th>30</th>\n",
       "      <td>1</td>\n",
       "      <td>1</td>\n",
       "    </tr>\n",
       "    <tr>\n",
       "      <th>31</th>\n",
       "      <td>0</td>\n",
       "      <td>0</td>\n",
       "    </tr>\n",
       "    <tr>\n",
       "      <th>32</th>\n",
       "      <td>1</td>\n",
       "      <td>1</td>\n",
       "    </tr>\n",
       "    <tr>\n",
       "      <th>33</th>\n",
       "      <td>1</td>\n",
       "      <td>1</td>\n",
       "    </tr>\n",
       "    <tr>\n",
       "      <th>34</th>\n",
       "      <td>1</td>\n",
       "      <td>1</td>\n",
       "    </tr>\n",
       "    <tr>\n",
       "      <th>35</th>\n",
       "      <td>1</td>\n",
       "      <td>1</td>\n",
       "    </tr>\n",
       "    <tr>\n",
       "      <th>36</th>\n",
       "      <td>1</td>\n",
       "      <td>1</td>\n",
       "    </tr>\n",
       "    <tr>\n",
       "      <th>37</th>\n",
       "      <td>1</td>\n",
       "      <td>1</td>\n",
       "    </tr>\n",
       "    <tr>\n",
       "      <th>38</th>\n",
       "      <td>1</td>\n",
       "      <td>1</td>\n",
       "    </tr>\n",
       "    <tr>\n",
       "      <th>39</th>\n",
       "      <td>1</td>\n",
       "      <td>1</td>\n",
       "    </tr>\n",
       "    <tr>\n",
       "      <th>40</th>\n",
       "      <td>1</td>\n",
       "      <td>1</td>\n",
       "    </tr>\n",
       "    <tr>\n",
       "      <th>41</th>\n",
       "      <td>1</td>\n",
       "      <td>1</td>\n",
       "    </tr>\n",
       "    <tr>\n",
       "      <th>42</th>\n",
       "      <td>1</td>\n",
       "      <td>1</td>\n",
       "    </tr>\n",
       "    <tr>\n",
       "      <th>43</th>\n",
       "      <td>1</td>\n",
       "      <td>1</td>\n",
       "    </tr>\n",
       "    <tr>\n",
       "      <th>44</th>\n",
       "      <td>1</td>\n",
       "      <td>1</td>\n",
       "    </tr>\n",
       "    <tr>\n",
       "      <th>45</th>\n",
       "      <td>1</td>\n",
       "      <td>1</td>\n",
       "    </tr>\n",
       "    <tr>\n",
       "      <th>46</th>\n",
       "      <td>1</td>\n",
       "      <td>1</td>\n",
       "    </tr>\n",
       "    <tr>\n",
       "      <th>47</th>\n",
       "      <td>1</td>\n",
       "      <td>1</td>\n",
       "    </tr>\n",
       "    <tr>\n",
       "      <th>48</th>\n",
       "      <td>1</td>\n",
       "      <td>1</td>\n",
       "    </tr>\n",
       "    <tr>\n",
       "      <th>49</th>\n",
       "      <td>1</td>\n",
       "      <td>1</td>\n",
       "    </tr>\n",
       "    <tr>\n",
       "      <th>50</th>\n",
       "      <td>1</td>\n",
       "      <td>1</td>\n",
       "    </tr>\n",
       "    <tr>\n",
       "      <th>51</th>\n",
       "      <td>1</td>\n",
       "      <td>1</td>\n",
       "    </tr>\n",
       "    <tr>\n",
       "      <th>52</th>\n",
       "      <td>0</td>\n",
       "      <td>0</td>\n",
       "    </tr>\n",
       "    <tr>\n",
       "      <th>53</th>\n",
       "      <td>1</td>\n",
       "      <td>1</td>\n",
       "    </tr>\n",
       "    <tr>\n",
       "      <th>54</th>\n",
       "      <td>1</td>\n",
       "      <td>1</td>\n",
       "    </tr>\n",
       "    <tr>\n",
       "      <th>55</th>\n",
       "      <td>0</td>\n",
       "      <td>0</td>\n",
       "    </tr>\n",
       "    <tr>\n",
       "      <th>56</th>\n",
       "      <td>1</td>\n",
       "      <td>1</td>\n",
       "    </tr>\n",
       "    <tr>\n",
       "      <th>57</th>\n",
       "      <td>1</td>\n",
       "      <td>1</td>\n",
       "    </tr>\n",
       "    <tr>\n",
       "      <th>58</th>\n",
       "      <td>1</td>\n",
       "      <td>1</td>\n",
       "    </tr>\n",
       "    <tr>\n",
       "      <th>59</th>\n",
       "      <td>1</td>\n",
       "      <td>1</td>\n",
       "    </tr>\n",
       "    <tr>\n",
       "      <th>60</th>\n",
       "      <td>0</td>\n",
       "      <td>0</td>\n",
       "    </tr>\n",
       "    <tr>\n",
       "      <th>61</th>\n",
       "      <td>1</td>\n",
       "      <td>1</td>\n",
       "    </tr>\n",
       "    <tr>\n",
       "      <th>62</th>\n",
       "      <td>0</td>\n",
       "      <td>0</td>\n",
       "    </tr>\n",
       "    <tr>\n",
       "      <th>63</th>\n",
       "      <td>1</td>\n",
       "      <td>1</td>\n",
       "    </tr>\n",
       "    <tr>\n",
       "      <th>64</th>\n",
       "      <td>1</td>\n",
       "      <td>1</td>\n",
       "    </tr>\n",
       "    <tr>\n",
       "      <th>65</th>\n",
       "      <td>1</td>\n",
       "      <td>1</td>\n",
       "    </tr>\n",
       "    <tr>\n",
       "      <th>66</th>\n",
       "      <td>1</td>\n",
       "      <td>1</td>\n",
       "    </tr>\n",
       "    <tr>\n",
       "      <th>67</th>\n",
       "      <td>1</td>\n",
       "      <td>1</td>\n",
       "    </tr>\n",
       "    <tr>\n",
       "      <th>68</th>\n",
       "      <td>1</td>\n",
       "      <td>1</td>\n",
       "    </tr>\n",
       "    <tr>\n",
       "      <th>69</th>\n",
       "      <td>1</td>\n",
       "      <td>1</td>\n",
       "    </tr>\n",
       "  </tbody>\n",
       "</table>\n",
       "</div>"
      ],
      "text/plain": [
       "    Actual Values  Predicted Values\n",
       "20              1                 1\n",
       "21              1                 1\n",
       "22              1                 1\n",
       "23              1                 1\n",
       "24              0                 1\n",
       "25              1                 1\n",
       "26              1                 1\n",
       "27              0                 0\n",
       "28              1                 1\n",
       "29              1                 1\n",
       "30              1                 1\n",
       "31              0                 0\n",
       "32              1                 1\n",
       "33              1                 1\n",
       "34              1                 1\n",
       "35              1                 1\n",
       "36              1                 1\n",
       "37              1                 1\n",
       "38              1                 1\n",
       "39              1                 1\n",
       "40              1                 1\n",
       "41              1                 1\n",
       "42              1                 1\n",
       "43              1                 1\n",
       "44              1                 1\n",
       "45              1                 1\n",
       "46              1                 1\n",
       "47              1                 1\n",
       "48              1                 1\n",
       "49              1                 1\n",
       "50              1                 1\n",
       "51              1                 1\n",
       "52              0                 0\n",
       "53              1                 1\n",
       "54              1                 1\n",
       "55              0                 0\n",
       "56              1                 1\n",
       "57              1                 1\n",
       "58              1                 1\n",
       "59              1                 1\n",
       "60              0                 0\n",
       "61              1                 1\n",
       "62              0                 0\n",
       "63              1                 1\n",
       "64              1                 1\n",
       "65              1                 1\n",
       "66              1                 1\n",
       "67              1                 1\n",
       "68              1                 1\n",
       "69              1                 1"
      ]
     },
     "execution_count": 36,
     "metadata": {},
     "output_type": "execute_result"
    }
   ],
   "source": [
    "result_df[20:70]"
   ]
  },
  {
   "cell_type": "code",
   "execution_count": 37,
   "id": "532d47d6",
   "metadata": {},
   "outputs": [],
   "source": [
    "test_pred=model.predict(X_test[1:2])"
   ]
  },
  {
   "cell_type": "code",
   "execution_count": 38,
   "id": "ec4e8462",
   "metadata": {},
   "outputs": [
    {
     "data": {
      "text/plain": [
       "(48, 48, 1)"
      ]
     },
     "execution_count": 38,
     "metadata": {},
     "output_type": "execute_result"
    }
   ],
   "source": [
    "X_test[1].shape"
   ]
  },
  {
   "cell_type": "code",
   "execution_count": 39,
   "id": "1cc0c57b",
   "metadata": {},
   "outputs": [],
   "source": [
    "test_pred=test_pred.argmax(axis=1)\n",
    "test_pred=test_pred.astype(int).flatten()\n",
    "test_pred=lb.inverse_transform(test_pred)"
   ]
  },
  {
   "cell_type": "code",
   "execution_count": 40,
   "id": "1fbcc835",
   "metadata": {},
   "outputs": [],
   "source": [
    "test_pred=pd.DataFrame(test_pred)"
   ]
  },
  {
   "cell_type": "code",
   "execution_count": 41,
   "id": "1466a79a",
   "metadata": {},
   "outputs": [
    {
     "data": {
      "text/html": [
       "<div>\n",
       "<style scoped>\n",
       "    .dataframe tbody tr th:only-of-type {\n",
       "        vertical-align: middle;\n",
       "    }\n",
       "\n",
       "    .dataframe tbody tr th {\n",
       "        vertical-align: top;\n",
       "    }\n",
       "\n",
       "    .dataframe thead th {\n",
       "        text-align: right;\n",
       "    }\n",
       "</style>\n",
       "<table border=\"1\" class=\"dataframe\">\n",
       "  <thead>\n",
       "    <tr style=\"text-align: right;\">\n",
       "      <th></th>\n",
       "      <th>0</th>\n",
       "    </tr>\n",
       "  </thead>\n",
       "  <tbody>\n",
       "    <tr>\n",
       "      <th>0</th>\n",
       "      <td>1</td>\n",
       "    </tr>\n",
       "  </tbody>\n",
       "</table>\n",
       "</div>"
      ],
      "text/plain": [
       "   0\n",
       "0  1"
      ]
     },
     "execution_count": 41,
     "metadata": {},
     "output_type": "execute_result"
    }
   ],
   "source": [
    "test_pred.head()"
   ]
  },
  {
   "cell_type": "code",
   "execution_count": 53,
   "id": "a579f935",
   "metadata": {},
   "outputs": [],
   "source": [
    "act=y_test.argmax(axis=1)\n",
    "act=act.astype(int).flatten()\n",
    "y_test=lb.inverse_transform(act)"
   ]
  },
  {
   "cell_type": "code",
   "execution_count": 54,
   "id": "9009939b",
   "metadata": {},
   "outputs": [],
   "source": [
    "from sklearn.metrics import roc_curve\n",
    "y_pred= model.predict(X_test).ravel()"
   ]
  },
  {
   "cell_type": "code",
   "execution_count": 55,
   "id": "c5a14199",
   "metadata": {},
   "outputs": [
    {
     "data": {
      "text/plain": [
       "array([1.3499648e-02, 9.8650032e-01, 1.7274906e-04, ..., 1.0000000e+00,\n",
       "       5.4414333e-05, 9.9994564e-01], dtype=float32)"
      ]
     },
     "execution_count": 55,
     "metadata": {},
     "output_type": "execute_result"
    }
   ],
   "source": [
    "y_pred"
   ]
  },
  {
   "cell_type": "code",
   "execution_count": 56,
   "id": "320ea640",
   "metadata": {},
   "outputs": [
    {
     "data": {
      "text/plain": [
       "array([1, 1, 0, ..., 0, 1, 1], dtype=int64)"
      ]
     },
     "execution_count": 56,
     "metadata": {},
     "output_type": "execute_result"
    }
   ],
   "source": [
    "y_test"
   ]
  },
  {
   "cell_type": "code",
   "execution_count": 58,
   "id": "447b2b22",
   "metadata": {},
   "outputs": [],
   "source": [
    "act2=y_pred.argmax()\n",
    "act2=act.astype(int).flatten()\n",
    "y_pred=lb.inverse_transform(act2)"
   ]
  },
  {
   "cell_type": "code",
   "execution_count": 59,
   "id": "796b8d1f",
   "metadata": {},
   "outputs": [
    {
     "data": {
      "text/plain": [
       "array([1, 1, 0, ..., 0, 1, 1], dtype=int64)"
      ]
     },
     "execution_count": 59,
     "metadata": {},
     "output_type": "execute_result"
    }
   ],
   "source": [
    "y_pred"
   ]
  },
  {
   "cell_type": "code",
   "execution_count": 60,
   "id": "f19fde68",
   "metadata": {},
   "outputs": [],
   "source": [
    "fpr_keras, tpr_keras, thresholds_keras = roc_curve(y_test, y_pred)"
   ]
  },
  {
   "cell_type": "code",
   "execution_count": 61,
   "id": "07541c68",
   "metadata": {},
   "outputs": [],
   "source": [
    "from sklearn.metrics import auc\n",
    "auc_keras = auc(fpr_keras, tpr_keras)"
   ]
  },
  {
   "cell_type": "code",
   "execution_count": 64,
   "id": "fcc05164",
   "metadata": {},
   "outputs": [
    {
     "data": {
      "image/png": "[encoded data removed]",
      "text/plain": [
       "<Figure size 432x288 with 1 Axes>"
      ]
     },
     "metadata": {
      "needs_background": "light"
     },
     "output_type": "display_data"
    },
    {
     "data": {
      "image/png": "[encoded data removed]",
      "text/plain": [
       "<Figure size 432x288 with 1 Axes>"
      ]
     },
     "metadata": {
      "needs_background": "light"
     },
     "output_type": "display_data"
    }
   ],
   "source": [
    "plt.figure(1)\n",
    "plt.plot([0, 1], [0, 1], 'k--')\n",
    "plt.plot(fpr_keras, tpr_keras, label='Keras (area = {:.3f})'.format(auc_keras))\n",
    "plt.xlabel('False positive rate')\n",
    "plt.ylabel('True positive rate')\n",
    "plt.title('ROC curve')\n",
    "plt.legend(loc='best')\n",
    "plt.show()\n",
    "# Zoom in view of the upper left corner.\n",
    "plt.figure(2)\n",
    "plt.xlim(0, 0.2)\n",
    "plt.ylim(0.8, 1)\n",
    "plt.plot([0, 1], [0, 1], 'k--')\n",
    "plt.plot(fpr_keras, tpr_keras, label='Keras (area = {:.3f})'.format(auc_keras))\n",
    "plt.xlabel('False positive rate')\n",
    "plt.ylabel('True positive rate')\n",
    "plt.title('ROC curve (zoomed in at top left)')\n",
    "plt.legend(loc='best')\n",
    "plt.show()"
   ]
  },
  {
   "cell_type": "code",
   "execution_count": null,
   "id": "d697da31",
   "metadata": {},
   "outputs": [],
   "source": []
  }
 ],
 "metadata": {
  "kernelspec": {
   "display_name": "Python 3 (ipykernel)",
   "language": "python",
   "name": "python3"
  },
  "language_info": {
   "codemirror_mode": {
    "name": "ipython",
    "version": 3
   },
   "file_extension": ".py",
   "mimetype": "text/x-python",
   "name": "python",
   "nbconvert_exporter": "python",
   "pygments_lexer": "ipython3",
   "version": "3.9.7"
  }
 },
 "nbformat": 4,
 "nbformat_minor": 5
}
